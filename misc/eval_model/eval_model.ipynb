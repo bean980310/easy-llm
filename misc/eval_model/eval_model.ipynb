{
 "cells": [
  {
   "cell_type": "code",
   "execution_count": null,
   "metadata": {},
   "outputs": [],
   "source": [
    "import torch\n",
    "from transformers import AutoModelForCausalLM, AutoTokenizer\n",
    "from datasets import load_dataset\n",
    "import math\n",
    "import nltk\n",
    "from nltk.translate.bleu_score import corpus_bleu\n",
    "from rouge_score import rouge_scorer\n",
    "from sklearn.metrics import accuracy_score, f1_score\n",
    "import numpy as np\n",
    "\n",
    "# NLTK 데이터 다운로드 (처음 한 번만 실행)\n",
    "nltk.download('punkt')"
   ]
  },
  {
   "cell_type": "code",
   "execution_count": null,
   "metadata": {},
   "outputs": [],
   "source": [
    "# 1. 모델과 토크나이저 로드\n",
    "model_name = './models/transformers/Qwen__Qwen2.5-7B-Instruct'  # 원하는 모델로 변경 가능\n",
    "tokenizer = AutoTokenizer.from_pretrained(model_name)\n",
    "model = AutoModelForCausalLM.from_pretrained(model_name)\n",
    "model.eval()"
   ]
  },
  {
   "cell_type": "code",
   "execution_count": null,
   "metadata": {},
   "outputs": [],
   "source": [
    "# GPU 사용 가능 시 설정\n",
    "device = torch.device('mps' if torch.backends.mps.is_available() else 'cpu')\n",
    "model.to(device)\n"
   ]
  },
  {
   "cell_type": "code",
   "execution_count": null,
   "metadata": {},
   "outputs": [],
   "source": [
    "# 2. 데이터 로드 (예: WikiText-2)\n",
    "dataset = load_dataset('wikitext', 'wikitext-2-raw-v1', split='test')"
   ]
  },
  {
   "cell_type": "code",
   "execution_count": null,
   "metadata": {},
   "outputs": [],
   "source": [
    "# 3. 퍼플렉서티 계산 함수\n",
    "def calculate_perplexity(model, tokenizer, texts, batch_size=8):\n",
    "    encodings = tokenizer(texts, return_tensors='pt', truncation=True, padding=True)\n",
    "    input_ids = encodings.input_ids.to(device)\n",
    "    with torch.no_grad():\n",
    "        outputs = model(input_ids, labels=input_ids)\n",
    "        # 손실(loss)은 평균 cross-entropy\n",
    "        loss = outputs.loss\n",
    "    perplexity = math.exp(loss.item())\n",
    "    return perplexity"
   ]
  },
  {
   "cell_type": "code",
   "execution_count": null,
   "metadata": {},
   "outputs": [],
   "source": [
    "# 4. BLEU 점수 계산 함수\n",
    "def calculate_bleu(references, hypotheses):\n",
    "    # NLTK의 corpus_bleu는 리스트의 리스트 형태를 요구\n",
    "    references = [[ref.split()] for ref in references]\n",
    "    hypotheses = [hyp.split() for hyp in hypotheses]\n",
    "    bleu = corpus_bleu(references, hypotheses)\n",
    "    return bleu"
   ]
  },
  {
   "cell_type": "code",
   "execution_count": null,
   "metadata": {},
   "outputs": [],
   "source": [
    "# 5. ROUGE 점수 계산 함수\n",
    "def calculate_rouge(references, hypotheses):\n",
    "    scorer = rouge_scorer.RougeScorer(['rouge1', 'rouge2', 'rougeL'], use_stemmer=True)\n",
    "    scores = [scorer.score(ref, hyp) for ref, hyp in zip(references, hypotheses)]\n",
    "    # 평균 계산\n",
    "    rouge1 = np.mean([s['rouge1'].fmeasure for s in scores])\n",
    "    rouge2 = np.mean([s['rouge2'].fmeasure for s in scores])\n",
    "    rougeL = np.mean([s['rougeL'].fmeasure for s in scores])\n",
    "    return {'rouge1': rouge1, 'rouge2': rouge2, 'rougeL': rougeL}"
   ]
  },
  {
   "cell_type": "code",
   "execution_count": null,
   "metadata": {},
   "outputs": [],
   "source": [
    "# 6. 예측 생성 함수 (예: 다음 문장 생성)\n",
    "def generate_predictions(model, tokenizer, texts, max_length=50):\n",
    "    inputs = tokenizer(texts, return_tensors='pt', truncation=True, padding=True).to(device)\n",
    "    with torch.no_grad():\n",
    "        outputs = model.generate(**inputs, max_length=max_length, num_return_sequences=1)\n",
    "    predictions = [tokenizer.decode(output, skip_special_tokens=True) for output in outputs]\n",
    "    return predictions"
   ]
  },
  {
   "cell_type": "code",
   "execution_count": null,
   "metadata": {},
   "outputs": [],
   "source": [
    "# 7. 정확도 및 F1 스코어 계산 함수 (예: 텍스트 분류)\n",
    "def calculate_classification_metrics(true_labels, predicted_labels):\n",
    "    accuracy = accuracy_score(true_labels, predicted_labels)\n",
    "    f1 = f1_score(true_labels, predicted_labels, average='weighted')\n",
    "    return {'accuracy': accuracy, 'f1_score': f1}"
   ]
  },
  {
   "cell_type": "code",
   "execution_count": null,
   "metadata": {},
   "outputs": [],
   "source": [
    "# 8. 평가 수행\n",
    "# 예를 들어, 퍼플렉서티 계산\n",
    "sample_texts = dataset['text'][:100]  # 샘플 데이터 사용\n",
    "perplexity = calculate_perplexity(model, tokenizer, sample_texts)\n",
    "print(f'퍼플렉서티: {perplexity}')"
   ]
  },
  {
   "cell_type": "code",
   "execution_count": null,
   "metadata": {},
   "outputs": [],
   "source": [
    "\n",
    "\n",
    "# 텍스트 생성 및 BLEU, ROUGE 계산\n",
    "# 참조 텍스트와 생성 텍스트가 필요합니다. 여기서는 예시로 동일한 텍스트를 사용\n",
    "# 실제 사용 시에는 참조 텍스트와 모델이 생성한 텍스트를 준비해야 합니다.\n",
    "references = sample_texts\n",
    "hypotheses = generate_predictions(model, tokenizer, sample_texts)\n",
    "\n",
    "bleu = calculate_bleu(references, hypotheses)\n",
    "rouge = calculate_rouge(references, hypotheses)\n",
    "print(f'BLEU 점수: {bleu}')\n",
    "print(f'ROUGE 점수: {rouge}')"
   ]
  },
  {
   "cell_type": "code",
   "execution_count": null,
   "metadata": {},
   "outputs": [],
   "source": [
    "# # 분류 태스크 예시 (참고: 실제 분류 태스크 데이터 필요)\n",
    "# true_labels = [...]  # 실제 라벨\n",
    "# predicted_labels = [...]  # 모델 예측 라벨\n",
    "# metrics = calculate_classification_metrics(true_labels, predicted_labels)\n",
    "# print(f'정확도: {metrics[\"accuracy\"]}, F1 스코어: {metrics[\"f1_score\"]}')"
   ]
  }
 ],
 "metadata": {
  "kernelspec": {
   "display_name": "llm",
   "language": "python",
   "name": "python3"
  },
  "language_info": {
   "codemirror_mode": {
    "name": "ipython",
    "version": 3
   },
   "file_extension": ".py",
   "mimetype": "text/x-python",
   "name": "python",
   "nbconvert_exporter": "python",
   "pygments_lexer": "ipython3",
   "version": "3.10.13"
  }
 },
 "nbformat": 4,
 "nbformat_minor": 2
}
